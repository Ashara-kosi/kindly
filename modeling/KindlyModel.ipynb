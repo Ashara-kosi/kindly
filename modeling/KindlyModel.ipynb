{
 "cells": [
  {
   "cell_type": "code",
   "execution_count": 50,
   "id": "7d62a64e-a26d-48d2-9316-0dd5370a8a61",
   "metadata": {},
   "outputs": [],
   "source": [
    "from textblob import TextBlob\n",
    "import pandas as pd\n",
    "pd.set_option('display.max_colwidth', None)\n",
    "pd.options.mode.chained_assignment = None  # default='warn'\n",
    "import numpy as np"
   ]
  },
  {
   "cell_type": "markdown",
   "id": "378535e9-5dc2-4109-a495-48876ce4acea",
   "metadata": {},
   "source": [
    "## Data Prepration"
   ]
  },
  {
   "cell_type": "code",
   "execution_count": 21,
   "id": "9f173865-0d3a-4fbc-a0d6-d70dc5796e71",
   "metadata": {},
   "outputs": [],
   "source": [
    "#Load text and labels\n",
    "train_text = pd.read_csv('dataset/offensive_train_text.txt', delimiter = \"\\t\",header=None,names=[\"Text\"])\n",
    "train_labels = pd.read_csv('dataset/offensive_train_labels.txt', delimiter = \"\\t\",header=None,names=[\"Label\"])"
   ]
  },
  {
   "cell_type": "code",
   "execution_count": 22,
   "id": "fbfc2773-7571-4961-9f2d-27eb682597a3",
   "metadata": {},
   "outputs": [],
   "source": [
    "#combine text and labels into one dataset\n",
    "dataset = pd.concat([train_text,train_labels],axis=1)"
   ]
  },
  {
   "cell_type": "code",
   "execution_count": 23,
   "id": "488fbffb-2284-4420-8a20-274b9e3cf1cf",
   "metadata": {},
   "outputs": [
    {
     "data": {
      "text/html": [
       "<div>\n",
       "<style scoped>\n",
       "    .dataframe tbody tr th:only-of-type {\n",
       "        vertical-align: middle;\n",
       "    }\n",
       "\n",
       "    .dataframe tbody tr th {\n",
       "        vertical-align: top;\n",
       "    }\n",
       "\n",
       "    .dataframe thead th {\n",
       "        text-align: right;\n",
       "    }\n",
       "</style>\n",
       "<table border=\"1\" class=\"dataframe\">\n",
       "  <thead>\n",
       "    <tr style=\"text-align: right;\">\n",
       "      <th></th>\n",
       "      <th>Text</th>\n",
       "      <th>Label</th>\n",
       "    </tr>\n",
       "  </thead>\n",
       "  <tbody>\n",
       "    <tr>\n",
       "      <th>0</th>\n",
       "      <td>back off</td>\n",
       "      <td>1</td>\n",
       "    </tr>\n",
       "    <tr>\n",
       "      <th>1</th>\n",
       "      <td>baseball was horrible</td>\n",
       "      <td>1</td>\n",
       "    </tr>\n",
       "    <tr>\n",
       "      <th>2</th>\n",
       "      <td>don't come to school, will kill you</td>\n",
       "      <td>1</td>\n",
       "    </tr>\n",
       "    <tr>\n",
       "      <th>3</th>\n",
       "      <td>go kill yourself</td>\n",
       "      <td>1</td>\n",
       "    </tr>\n",
       "    <tr>\n",
       "      <th>4</th>\n",
       "      <td>haha</td>\n",
       "      <td>1</td>\n",
       "    </tr>\n",
       "  </tbody>\n",
       "</table>\n",
       "</div>"
      ],
      "text/plain": [
       "                                  Text  Label\n",
       "0                             back off      1\n",
       "1                baseball was horrible      1\n",
       "2  don't come to school, will kill you      1\n",
       "3                     go kill yourself      1\n",
       "4                                 haha      1"
      ]
     },
     "execution_count": 23,
     "metadata": {},
     "output_type": "execute_result"
    }
   ],
   "source": [
    "dataset.head(5)"
   ]
  },
  {
   "cell_type": "markdown",
   "id": "5ed076b3-475b-412b-8fb4-55bc94070109",
   "metadata": {},
   "source": [
    "### Generate tokens out of the text"
   ]
  },
  {
   "cell_type": "code",
   "execution_count": 24,
   "id": "4ce6899c-6325-4be9-b65f-3aa6e001c676",
   "metadata": {},
   "outputs": [],
   "source": [
    "#create an empty column to store the tokens\n",
    "dataset[\"Tokens\"] = None"
   ]
  },
  {
   "cell_type": "code",
   "execution_count": 25,
   "id": "2c1017e4-7a7a-48d3-b8a1-a9b1272fd86d",
   "metadata": {},
   "outputs": [],
   "source": [
    "#generate tokens for each line of text\n",
    "for ind in dataset.index:\n",
    "    words = TextBlob(dataset[\"Text\"][ind]).words\n",
    "    # remove punctuation from each word\n",
    "    words = [word for word in words if word.isalpha()]\n",
    "    dataset[\"Tokens\"][ind] = words"
   ]
  },
  {
   "cell_type": "code",
   "execution_count": 26,
   "id": "d610a78d-e76d-4157-b1ad-fc2c22f04b33",
   "metadata": {},
   "outputs": [
    {
     "data": {
      "text/html": [
       "<div>\n",
       "<style scoped>\n",
       "    .dataframe tbody tr th:only-of-type {\n",
       "        vertical-align: middle;\n",
       "    }\n",
       "\n",
       "    .dataframe tbody tr th {\n",
       "        vertical-align: top;\n",
       "    }\n",
       "\n",
       "    .dataframe thead th {\n",
       "        text-align: right;\n",
       "    }\n",
       "</style>\n",
       "<table border=\"1\" class=\"dataframe\">\n",
       "  <thead>\n",
       "    <tr style=\"text-align: right;\">\n",
       "      <th></th>\n",
       "      <th>Text</th>\n",
       "      <th>Label</th>\n",
       "      <th>Tokens</th>\n",
       "    </tr>\n",
       "  </thead>\n",
       "  <tbody>\n",
       "    <tr>\n",
       "      <th>120</th>\n",
       "      <td>you silly</td>\n",
       "      <td>1</td>\n",
       "      <td>[you, silly]</td>\n",
       "    </tr>\n",
       "    <tr>\n",
       "      <th>121</th>\n",
       "      <td>you suck so much</td>\n",
       "      <td>1</td>\n",
       "      <td>[you, suck, so, much]</td>\n",
       "    </tr>\n",
       "    <tr>\n",
       "      <th>122</th>\n",
       "      <td>you're ugly and fat</td>\n",
       "      <td>1</td>\n",
       "      <td>[you, ugly, and, fat]</td>\n",
       "    </tr>\n",
       "    <tr>\n",
       "      <th>123</th>\n",
       "      <td>you're ugly and stupid</td>\n",
       "      <td>1</td>\n",
       "      <td>[you, ugly, and, stupid]</td>\n",
       "    </tr>\n",
       "    <tr>\n",
       "      <th>124</th>\n",
       "      <td>you make me laugh a lot</td>\n",
       "      <td>0</td>\n",
       "      <td>[you, make, me, laugh, a, lot]</td>\n",
       "    </tr>\n",
       "  </tbody>\n",
       "</table>\n",
       "</div>"
      ],
      "text/plain": [
       "                        Text  Label                          Tokens\n",
       "120                you silly      1                    [you, silly]\n",
       "121         you suck so much      1           [you, suck, so, much]\n",
       "122      you're ugly and fat      1           [you, ugly, and, fat]\n",
       "123   you're ugly and stupid      1        [you, ugly, and, stupid]\n",
       "124  you make me laugh a lot      0  [you, make, me, laugh, a, lot]"
      ]
     },
     "execution_count": 26,
     "metadata": {},
     "output_type": "execute_result"
    }
   ],
   "source": [
    "dataset.tail(5)"
   ]
  },
  {
   "cell_type": "markdown",
   "id": "35faf436-f6e5-48f2-b89c-67e571df2b33",
   "metadata": {},
   "source": [
    "### Reduce each word to its root via lemmatization"
   ]
  },
  {
   "cell_type": "code",
   "execution_count": 27,
   "id": "df360309-5e8b-4ad5-9d03-22e998679aaf",
   "metadata": {},
   "outputs": [],
   "source": [
    "from nltk.stem import WordNetLemmatizer\n",
    "lemmatizer = WordNetLemmatizer()"
   ]
  },
  {
   "cell_type": "code",
   "execution_count": 28,
   "id": "b27d7c3d-435c-4b86-a244-14211617db08",
   "metadata": {},
   "outputs": [],
   "source": [
    "#create an empty column to store the cleaned words\n",
    "dataset[\"Cleaned\"] = None"
   ]
  },
  {
   "cell_type": "code",
   "execution_count": 29,
   "id": "f1f93065-9312-470a-a4fb-5fff1aa3648c",
   "metadata": {},
   "outputs": [],
   "source": [
    "#generate tokens for each line of text\n",
    "for ind in dataset.index:\n",
    "    tokens = dataset[\"Tokens\"][ind]\n",
    "    cleaned_words = []\n",
    "    for token in tokens:\n",
    "        cleaned_words.append(lemmatizer.lemmatize(token))\n",
    "    dataset[\"Cleaned\"][ind] = cleaned_words"
   ]
  },
  {
   "cell_type": "code",
   "execution_count": 30,
   "id": "fc846a41-b855-4c29-96be-9e99530e0c96",
   "metadata": {},
   "outputs": [
    {
     "data": {
      "text/html": [
       "<div>\n",
       "<style scoped>\n",
       "    .dataframe tbody tr th:only-of-type {\n",
       "        vertical-align: middle;\n",
       "    }\n",
       "\n",
       "    .dataframe tbody tr th {\n",
       "        vertical-align: top;\n",
       "    }\n",
       "\n",
       "    .dataframe thead th {\n",
       "        text-align: right;\n",
       "    }\n",
       "</style>\n",
       "<table border=\"1\" class=\"dataframe\">\n",
       "  <thead>\n",
       "    <tr style=\"text-align: right;\">\n",
       "      <th></th>\n",
       "      <th>Text</th>\n",
       "      <th>Label</th>\n",
       "      <th>Tokens</th>\n",
       "      <th>Cleaned</th>\n",
       "    </tr>\n",
       "  </thead>\n",
       "  <tbody>\n",
       "    <tr>\n",
       "      <th>120</th>\n",
       "      <td>you silly</td>\n",
       "      <td>1</td>\n",
       "      <td>[you, silly]</td>\n",
       "      <td>[you, silly]</td>\n",
       "    </tr>\n",
       "    <tr>\n",
       "      <th>121</th>\n",
       "      <td>you suck so much</td>\n",
       "      <td>1</td>\n",
       "      <td>[you, suck, so, much]</td>\n",
       "      <td>[you, suck, so, much]</td>\n",
       "    </tr>\n",
       "    <tr>\n",
       "      <th>122</th>\n",
       "      <td>you're ugly and fat</td>\n",
       "      <td>1</td>\n",
       "      <td>[you, ugly, and, fat]</td>\n",
       "      <td>[you, ugly, and, fat]</td>\n",
       "    </tr>\n",
       "    <tr>\n",
       "      <th>123</th>\n",
       "      <td>you're ugly and stupid</td>\n",
       "      <td>1</td>\n",
       "      <td>[you, ugly, and, stupid]</td>\n",
       "      <td>[you, ugly, and, stupid]</td>\n",
       "    </tr>\n",
       "    <tr>\n",
       "      <th>124</th>\n",
       "      <td>you make me laugh a lot</td>\n",
       "      <td>0</td>\n",
       "      <td>[you, make, me, laugh, a, lot]</td>\n",
       "      <td>[you, make, me, laugh, a, lot]</td>\n",
       "    </tr>\n",
       "  </tbody>\n",
       "</table>\n",
       "</div>"
      ],
      "text/plain": [
       "                        Text  Label                          Tokens  \\\n",
       "120                you silly      1                    [you, silly]   \n",
       "121         you suck so much      1           [you, suck, so, much]   \n",
       "122      you're ugly and fat      1           [you, ugly, and, fat]   \n",
       "123   you're ugly and stupid      1        [you, ugly, and, stupid]   \n",
       "124  you make me laugh a lot      0  [you, make, me, laugh, a, lot]   \n",
       "\n",
       "                            Cleaned  \n",
       "120                    [you, silly]  \n",
       "121           [you, suck, so, much]  \n",
       "122           [you, ugly, and, fat]  \n",
       "123        [you, ugly, and, stupid]  \n",
       "124  [you, make, me, laugh, a, lot]  "
      ]
     },
     "execution_count": 30,
     "metadata": {},
     "output_type": "execute_result"
    }
   ],
   "source": [
    "dataset.tail(5)"
   ]
  },
  {
   "cell_type": "markdown",
   "id": "1a0a6bdd-a2f6-4aad-ac84-cc4bf308b418",
   "metadata": {},
   "source": [
    "### Generate vector for classification"
   ]
  },
  {
   "cell_type": "code",
   "execution_count": 31,
   "id": "010f4ae4-5041-417c-a22e-153e0ee8bf75",
   "metadata": {},
   "outputs": [],
   "source": [
    "#create sentences from stemmed tokens \n",
    "np_docs = []\n",
    "for ind in dataset.index:\n",
    "    res = ' '.join(dataset['Cleaned'][ind])\n",
    "    np_docs.append(res)"
   ]
  },
  {
   "cell_type": "code",
   "execution_count": 54,
   "id": "c6e8d9aa-73db-499a-b8b7-0ddc3988b64f",
   "metadata": {},
   "outputs": [],
   "source": [
    "#fit tfidf\n",
    "from sklearn.feature_extraction.text import TfidfVectorizer\n",
    "vectorizer = TfidfVectorizer()\n",
    "doc_vec = vectorizer.fit(np_docs,max_features=10)"
   ]
  },
  {
   "cell_type": "code",
   "execution_count": 33,
   "id": "eac5bc16-3d65-4a09-bb88-f729f2722897",
   "metadata": {},
   "outputs": [],
   "source": [
    "#create an empty column to store TFIDF\n",
    "dataset[\"TFIDF\"] = None"
   ]
  },
  {
   "cell_type": "code",
   "execution_count": 60,
   "id": "c920bedb-bfa0-41dc-9099-803034d65d4b",
   "metadata": {},
   "outputs": [],
   "source": [
    "for ind in dataset.index:\n",
    "    dataset[\"TFIDF\"][ind] = vectorizer.transform(dataset[\"Cleaned\"][ind]).toarray()[0]"
   ]
  },
  {
   "cell_type": "code",
   "execution_count": 61,
   "id": "8497bf3d-d526-4a09-92bc-5983319e1d0d",
   "metadata": {},
   "outputs": [
    {
     "data": {
      "text/html": [
       "<div>\n",
       "<style scoped>\n",
       "    .dataframe tbody tr th:only-of-type {\n",
       "        vertical-align: middle;\n",
       "    }\n",
       "\n",
       "    .dataframe tbody tr th {\n",
       "        vertical-align: top;\n",
       "    }\n",
       "\n",
       "    .dataframe thead th {\n",
       "        text-align: right;\n",
       "    }\n",
       "</style>\n",
       "<table border=\"1\" class=\"dataframe\">\n",
       "  <thead>\n",
       "    <tr style=\"text-align: right;\">\n",
       "      <th></th>\n",
       "      <th>Text</th>\n",
       "      <th>Label</th>\n",
       "      <th>Tokens</th>\n",
       "      <th>Cleaned</th>\n",
       "      <th>TFIDF</th>\n",
       "    </tr>\n",
       "  </thead>\n",
       "  <tbody>\n",
       "    <tr>\n",
       "      <th>0</th>\n",
       "      <td>back off</td>\n",
       "      <td>1</td>\n",
       "      <td>[back, off]</td>\n",
       "      <td>[back, off]</td>\n",
       "      <td>[0.0, 0.0, 0.0, 0.0, 0.0, 0.0, 0.0, 0.0, 0.0, 0.0, 0.0, 0.0, 1.0, 0.0, 0.0, 0.0, 0.0, 0.0, 0.0, 0.0, 0.0, 0.0, 0.0, 0.0, 0.0, 0.0, 0.0, 0.0, 0.0, 0.0, 0.0, 0.0, 0.0, 0.0, 0.0, 0.0, 0.0, 0.0, 0.0, 0.0, 0.0, 0.0, 0.0, 0.0, 0.0, 0.0, 0.0, 0.0, 0.0, 0.0, 0.0, 0.0, 0.0, 0.0, 0.0, 0.0, 0.0, 0.0, 0.0, 0.0, 0.0, 0.0, 0.0, 0.0, 0.0, 0.0, 0.0, 0.0, 0.0, 0.0, 0.0, 0.0, 0.0, 0.0, 0.0, 0.0, 0.0, 0.0, 0.0, 0.0, 0.0, 0.0, 0.0, 0.0, 0.0, 0.0, 0.0, 0.0, 0.0, 0.0, 0.0, 0.0, 0.0, 0.0, 0.0, 0.0, 0.0, 0.0, 0.0, 0.0, ...]</td>\n",
       "    </tr>\n",
       "    <tr>\n",
       "      <th>1</th>\n",
       "      <td>baseball was horrible</td>\n",
       "      <td>1</td>\n",
       "      <td>[baseball, was, horrible]</td>\n",
       "      <td>[baseball, wa, horrible]</td>\n",
       "      <td>[0.0, 0.0, 0.0, 0.0, 0.0, 0.0, 0.0, 0.0, 0.0, 0.0, 0.0, 0.0, 0.0, 0.0, 1.0, 0.0, 0.0, 0.0, 0.0, 0.0, 0.0, 0.0, 0.0, 0.0, 0.0, 0.0, 0.0, 0.0, 0.0, 0.0, 0.0, 0.0, 0.0, 0.0, 0.0, 0.0, 0.0, 0.0, 0.0, 0.0, 0.0, 0.0, 0.0, 0.0, 0.0, 0.0, 0.0, 0.0, 0.0, 0.0, 0.0, 0.0, 0.0, 0.0, 0.0, 0.0, 0.0, 0.0, 0.0, 0.0, 0.0, 0.0, 0.0, 0.0, 0.0, 0.0, 0.0, 0.0, 0.0, 0.0, 0.0, 0.0, 0.0, 0.0, 0.0, 0.0, 0.0, 0.0, 0.0, 0.0, 0.0, 0.0, 0.0, 0.0, 0.0, 0.0, 0.0, 0.0, 0.0, 0.0, 0.0, 0.0, 0.0, 0.0, 0.0, 0.0, 0.0, 0.0, 0.0, 0.0, ...]</td>\n",
       "    </tr>\n",
       "  </tbody>\n",
       "</table>\n",
       "</div>"
      ],
      "text/plain": [
       "                    Text  Label                     Tokens  \\\n",
       "0               back off      1                [back, off]   \n",
       "1  baseball was horrible      1  [baseball, was, horrible]   \n",
       "\n",
       "                    Cleaned  \\\n",
       "0               [back, off]   \n",
       "1  [baseball, wa, horrible]   \n",
       "\n",
       "                                                                                                                                                                                                                                                                                                                                                                                                                                                                                                                       TFIDF  \n",
       "0  [0.0, 0.0, 0.0, 0.0, 0.0, 0.0, 0.0, 0.0, 0.0, 0.0, 0.0, 0.0, 1.0, 0.0, 0.0, 0.0, 0.0, 0.0, 0.0, 0.0, 0.0, 0.0, 0.0, 0.0, 0.0, 0.0, 0.0, 0.0, 0.0, 0.0, 0.0, 0.0, 0.0, 0.0, 0.0, 0.0, 0.0, 0.0, 0.0, 0.0, 0.0, 0.0, 0.0, 0.0, 0.0, 0.0, 0.0, 0.0, 0.0, 0.0, 0.0, 0.0, 0.0, 0.0, 0.0, 0.0, 0.0, 0.0, 0.0, 0.0, 0.0, 0.0, 0.0, 0.0, 0.0, 0.0, 0.0, 0.0, 0.0, 0.0, 0.0, 0.0, 0.0, 0.0, 0.0, 0.0, 0.0, 0.0, 0.0, 0.0, 0.0, 0.0, 0.0, 0.0, 0.0, 0.0, 0.0, 0.0, 0.0, 0.0, 0.0, 0.0, 0.0, 0.0, 0.0, 0.0, 0.0, 0.0, 0.0, 0.0, ...]  \n",
       "1  [0.0, 0.0, 0.0, 0.0, 0.0, 0.0, 0.0, 0.0, 0.0, 0.0, 0.0, 0.0, 0.0, 0.0, 1.0, 0.0, 0.0, 0.0, 0.0, 0.0, 0.0, 0.0, 0.0, 0.0, 0.0, 0.0, 0.0, 0.0, 0.0, 0.0, 0.0, 0.0, 0.0, 0.0, 0.0, 0.0, 0.0, 0.0, 0.0, 0.0, 0.0, 0.0, 0.0, 0.0, 0.0, 0.0, 0.0, 0.0, 0.0, 0.0, 0.0, 0.0, 0.0, 0.0, 0.0, 0.0, 0.0, 0.0, 0.0, 0.0, 0.0, 0.0, 0.0, 0.0, 0.0, 0.0, 0.0, 0.0, 0.0, 0.0, 0.0, 0.0, 0.0, 0.0, 0.0, 0.0, 0.0, 0.0, 0.0, 0.0, 0.0, 0.0, 0.0, 0.0, 0.0, 0.0, 0.0, 0.0, 0.0, 0.0, 0.0, 0.0, 0.0, 0.0, 0.0, 0.0, 0.0, 0.0, 0.0, 0.0, ...]  "
      ]
     },
     "execution_count": 61,
     "metadata": {},
     "output_type": "execute_result"
    }
   ],
   "source": [
    "dataset.head(2)"
   ]
  },
  {
   "cell_type": "markdown",
   "id": "17eaa5fc-88ca-4792-b010-8f69c1a68c2f",
   "metadata": {},
   "source": [
    "## Build models"
   ]
  },
  {
   "cell_type": "code",
   "execution_count": 62,
   "id": "17bc2541-7aa1-4dac-8859-3883313088cd",
   "metadata": {},
   "outputs": [],
   "source": [
    "from sklearn import model_selection, naive_bayes, svm\n",
    "from sklearn.neighbors import KNeighborsClassifier\n",
    "from sklearn.metrics import accuracy_score\n",
    "from sklearn.linear_model import LogisticRegression"
   ]
  },
  {
   "cell_type": "code",
   "execution_count": 116,
   "id": "c775379b-93e0-4819-9822-0a6342ab9818",
   "metadata": {},
   "outputs": [],
   "source": [
    "#gather features\n",
    "features = []\n",
    "for ind in dataset.index:\n",
    "    features.append(dataset['TFIDF'][ind])"
   ]
  },
  {
   "cell_type": "code",
   "execution_count": 117,
   "id": "508df095-5f44-4fa5-a539-fee18db450de",
   "metadata": {},
   "outputs": [
    {
     "data": {
      "text/plain": [
       "(138,)"
      ]
     },
     "execution_count": 117,
     "metadata": {},
     "output_type": "execute_result"
    }
   ],
   "source": [
    "#because we have only one feature   \n",
    "for f in features:\n",
    "    f = f.reshape(-1,1)\n",
    "\n",
    "features[0].shape"
   ]
  },
  {
   "cell_type": "code",
   "execution_count": 118,
   "id": "9d16d6e7-8149-4143-83aa-e6a4c7d10890",
   "metadata": {},
   "outputs": [],
   "source": [
    "labels = []\n",
    "for ind in dataset.index:\n",
    "    labels.append(dataset['Label'][ind])"
   ]
  },
  {
   "cell_type": "markdown",
   "id": "7a34b0af-51cf-4986-b126-0e163f23141b",
   "metadata": {},
   "source": [
    "### Visualize features"
   ]
  },
  {
   "cell_type": "code",
   "execution_count": 119,
   "id": "a503b46e-4abf-4893-baa2-ccd53115c13c",
   "metadata": {},
   "outputs": [],
   "source": [
    "from sklearn.decomposition import PCA\n",
    "import matplotlib.pyplot as plt"
   ]
  },
  {
   "cell_type": "code",
   "execution_count": 129,
   "id": "70fd65ec-85fc-4a91-a368-b23ec8bdfe7a",
   "metadata": {},
   "outputs": [
    {
     "data": {
      "image/png": "[encoded data removed]",
      "text/plain": [
       "<Figure size 432x288 with 1 Axes>"
      ]
     },
     "metadata": {
      "needs_background": "light"
     },
     "output_type": "display_data"
    }
   ],
   "source": [
    "pca = PCA(n_components=2).fit(features)\n",
    "data2D = pca.transform(features)\n",
    "x_coordinates = data2D[:,0]\n",
    "y_coordinates =  data2D[:,1]\n",
    "                \n",
    "for x, y in zip(x_coordinates, y_coordinates):\n",
    "    rgb = np.random.rand(3,)\n",
    "    plt.scatter(x, y, c=[rgb])\n",
    "plt.show()      "
   ]
  },
  {
   "cell_type": "code",
   "execution_count": 130,
   "id": "0f6354e4-c86f-474f-b619-b96bee26acc9",
   "metadata": {},
   "outputs": [],
   "source": [
    "#create train and test splits\n",
    "Train_X, Test_X, Train_Y, Test_Y = model_selection.train_test_split(features,labels,test_size=0.3)"
   ]
  },
  {
   "cell_type": "code",
   "execution_count": 131,
   "id": "20872177-0a46-42d0-b47c-973ae817d246",
   "metadata": {},
   "outputs": [],
   "source": [
    "# function to prepare  input\n",
    "def prepare_input(sample_text):\n",
    "    words = TextBlob(sample_text).words\n",
    "    # remove punctuation from each word\n",
    "    words = [word for word in words if word.isalpha()]\n",
    "    cleaned_words = []\n",
    "    for word in words:\n",
    "        cleaned_words.append(lemmatizer.lemmatize(word))\n",
    "    return vectorizer.transform(cleaned_words).toarray()[0]"
   ]
  },
  {
   "cell_type": "markdown",
   "id": "87c70d9e-554c-47f3-bf89-c61b20e4fa10",
   "metadata": {},
   "source": [
    "### KNN Model"
   ]
  },
  {
   "cell_type": "code",
   "execution_count": 132,
   "id": "e9e655fa-2f6d-4a90-9e59-5f93fcd78056",
   "metadata": {},
   "outputs": [
    {
     "data": {
      "text/plain": [
       "KNeighborsClassifier(n_neighbors=1)"
      ]
     },
     "execution_count": 132,
     "metadata": {},
     "output_type": "execute_result"
    }
   ],
   "source": [
    "neigh_model = KNeighborsClassifier(n_neighbors=1)\n",
    "neigh_model.fit(Train_X, Train_Y)"
   ]
  },
  {
   "cell_type": "code",
   "execution_count": 133,
   "id": "4d35ae37-f59c-488d-918b-bf16217d06c5",
   "metadata": {},
   "outputs": [
    {
     "name": "stdout",
     "output_type": "stream",
     "text": [
      "Nearest Neighbors Accuracy Score ->  100.0\n"
     ]
    }
   ],
   "source": [
    "predictions_neigh = neigh_model.predict(Test_X)\n",
    "print(\"Nearest Neighbors Accuracy Score -> \",accuracy_score(predictions_neigh, Test_Y)*100)"
   ]
  },
  {
   "cell_type": "code",
   "execution_count": 134,
   "id": "f828ca0e-8b66-4049-89e6-d0e5f9d24072",
   "metadata": {},
   "outputs": [],
   "source": [
    "#insert test text here\n",
    "test_text = \"I have so much homework im going to die\""
   ]
  },
  {
   "cell_type": "code",
   "execution_count": 135,
   "id": "567098a1-14b9-4d03-8a9c-982e80807717",
   "metadata": {},
   "outputs": [],
   "source": [
    "test_input = prepare_input(test_text).reshape(1, -1)\n",
    "predicted_value = neigh_model.predict(test_input)[0]"
   ]
  },
  {
   "cell_type": "code",
   "execution_count": 136,
   "id": "8d46cf54-1667-40c1-a536-36651a274f8e",
   "metadata": {},
   "outputs": [
    {
     "data": {
      "text/plain": [
       "1"
      ]
     },
     "execution_count": 136,
     "metadata": {},
     "output_type": "execute_result"
    }
   ],
   "source": [
    "predicted_value"
   ]
  },
  {
   "cell_type": "code",
   "execution_count": null,
   "id": "920344ed-a0a5-40f0-a89b-3c9627010888",
   "metadata": {},
   "outputs": [],
   "source": []
  }
 ],
 "metadata": {
  "kernelspec": {
   "display_name": "Python 3",
   "language": "python",
   "name": "python3"
  },
  "language_info": {
   "codemirror_mode": {
    "name": "ipython",
    "version": 3
   },
   "file_extension": ".py",
   "mimetype": "text/x-python",
   "name": "python",
   "nbconvert_exporter": "python",
   "pygments_lexer": "ipython3",
   "version": "3.6.10"
  }
 },
 "nbformat": 4,
 "nbformat_minor": 5
}
